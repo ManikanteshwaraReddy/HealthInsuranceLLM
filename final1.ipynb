{
 "cells": [
  {
   "cell_type": "code",
   "execution_count": 21,
   "metadata": {},
   "outputs": [],
   "source": [
    "import pandas as pd\n",
    "from sklearn.feature_extraction.text import TfidfVectorizer\n",
    "from sklearn.metrics.pairwise import cosine_similarity\n",
    "import numpy as np\n"
   ]
  },
  {
   "cell_type": "code",
   "execution_count": 22,
   "metadata": {},
   "outputs": [],
   "source": [
    "# Load the dataset with efficient data types and handle missing values\n",
    "data = pd.read_csv('uuuuuuu.csv', dtype={\n",
    "    'age': 'int32', 'gender': 'category', 'bmi': 'float32', 'children': 'int32',\n",
    "    'smoker': 'category', 'medical_history': 'str', 'family_medical_history': 'str',\n",
    "    'exercise_frequency': 'str', 'occupation': 'str', 'charges': 'float32'\n",
    "})\n"
   ]
  },
  {
   "cell_type": "code",
   "execution_count": 23,
   "metadata": {},
   "outputs": [],
   "source": [
    "# Combine relevant text fields into a single document\n",
    "data['document'] = data.apply(lambda row: f\"Age: {row['age']}, Gender: {row['gender']}, BMI: {row['bmi']}, Children: {row['children']}, \\\n",
    "                                        Smoker: {row['smoker']}, Medical History: {row['medical_history']}, \\\n",
    "                                        Family Medical History: {row['family_medical_history']}, \\\n",
    "                                        Exercise Frequency: {row['exercise_frequency']}, Occupation: {row['occupation']}, \\\n",
    "                                        Charges: {row['charges']}\", axis=1)"
   ]
  },
  {
   "cell_type": "code",
   "execution_count": 24,
   "metadata": {},
   "outputs": [],
   "source": [
    "# Vectorize the documents\n",
    "vectorizer = TfidfVectorizer(max_features=5000, ngram_range=(1, 2))\n",
    "tfidf_matrix = vectorizer.fit_transform(data['document'])"
   ]
  },
  {
   "cell_type": "code",
   "execution_count": 25,
   "metadata": {},
   "outputs": [
    {
     "data": {
      "text/plain": [
       "192256    Age: 50, Gender: male, BMI: 27.09000015258789,...\n",
       "301418    Age: 50, Gender: male, BMI: 27.0, Children: 2,...\n",
       "422244    Age: 50, Gender: male, BMI: 27.8700008392334, ...\n",
       "128070    Age: 50, Gender: female, BMI: 27.5, Children: ...\n",
       "77031     Age: 50, Gender: male, BMI: 27.5, Children: 2,...\n",
       "Name: document, dtype: object"
      ]
     },
     "execution_count": 25,
     "metadata": {},
     "output_type": "execute_result"
    }
   ],
   "source": [
    "# retrive the documents\n",
    "def retrieve(query, top_n=5):\n",
    "    query_vec = vectorizer.transform([query])\n",
    "    similarities = cosine_similarity(query_vec, tfidf_matrix).flatten()\n",
    "    indices = np.argsort(-similarities)[:top_n]\n",
    "    return data['document'].iloc[indices]\n",
    "\n",
    "# Example query\n",
    "query = \"Age: 50, Gender: male,BMI: 27.3 ,Smoker: no, Medical History: Diabetes ,family_medical_history: NONE,exercise_frequency: Occasionally\"\n",
    "retrieved_docs = retrieve(query)\n",
    "retrieved_docs\n"
   ]
  },
  {
   "cell_type": "code",
   "execution_count": 26,
   "metadata": {},
   "outputs": [],
   "source": [
    "import os\n",
    "from langchain.prompts import PromptTemplate\n",
    "from langchain.chains.question_answering import load_qa_chain\n",
    "from langchain_community.llms import Ollama\n"
   ]
  },
  {
   "cell_type": "code",
   "execution_count": 27,
   "metadata": {},
   "outputs": [],
   "source": [
    "# generating a response\n",
    "def generate_response(combined_docs, query):\n",
    "    prompt_template = f\"\"\"\n",
    "    Act as a chat system for Health Insurance domain take as which input health insurance parameters and output Quotes for Insurance.\n",
    "    Based on the sample insurance data provide a quotation for health insurance based on input health condition of the user.\n",
    "\n",
    "    ID, age, gender, bmi, children, smoker, medical_history, family_medical_history, exercise_frequency,charges:\n",
    "    sample health insurance data: {combined_docs}\n",
    "\n",
    "    ---\n",
    "\n",
    "    Provide a Quotation for the input health condition of the user based on the above sample health insurance data: \n",
    "    input health condition of the user: {query}\n",
    "    \"\"\"\n",
    "    llm = Ollama(model=\"llama3:8b \", temperature=0.5)\n",
    "    response = llm.invoke(prompt_template)\n",
    "    \n",
    "    \n",
    "    # Remove the unwanted text from the response\n",
    "    unwanted_text = \"Please note that this is an estimated quote only. The actual premium may vary based on the specific health insurance provider, plan details, location, and other factors. It's always best to consult with a licensed insurance agent or broker for accurate quotes tailored to your unique situation.\"\n",
    "    response = response.replace(unwanted_text, \"\")\n",
    "    \n",
    "    return response  # Directly return the filtered response string\n"
   ]
  },
  {
   "cell_type": "code",
   "execution_count": 28,
   "metadata": {},
   "outputs": [],
   "source": [
    "\n",
    "def answer_general_question(query):\n",
    "    llm = Ollama(model=\"mistral:7b-instruct\", temperature=0.5)\n",
    "    response = llm.invoke(query)\n",
    "    return response"
   ]
  },
  {
   "cell_type": "code",
   "execution_count": 29,
   "metadata": {},
   "outputs": [],
   "source": [
    "def get_user_input():\n",
    "    print(\"Choose the type of query:\")\n",
    "    print(\"1. Health Insurance Quotation\")\n",
    "    print(\"2. General Question\")\n",
    "    query_type = input(\"Enter 1 or 2: \")\n",
    "\n",
    "    if query_type == \"1\":\n",
    "        age = input(\"Enter age: \")\n",
    "        gender = input(\"Enter gender (male/female): \")\n",
    "        height = float(input(\"Enter height in cm: \"))\n",
    "        weight = float(input(\"Enter weight in kilograms: \"))\n",
    "        bmi = round(weight / (height ** 2), 2)\n",
    "        children = input(\"Enter number of children: \")\n",
    "        smoker = input(\"Are you a smoker? (yes/no): \")\n",
    "        medical_history = input(\"Enter medical history: \")\n",
    "        family_medical_history = input(\"Enter family medical history: \")\n",
    "        exercise_frequency = input(\"Enter exercise frequency: \")\n",
    "\n",
    "        query = f\"Age: {age}, Gender: {gender}, BMI: {bmi}, Children: {children}, Smoker: {smoker}, Medical History: {medical_history}, Family Medical History: {family_medical_history}, Exercise Frequency: {exercise_frequency}\"\n",
    "        return query, \"insurance\"\n",
    "    else:\n",
    "        query = input(\"Enter your general question: \")\n",
    "        return query, \"general\""
   ]
  },
  {
   "cell_type": "code",
   "execution_count": 31,
   "metadata": {},
   "outputs": [
    {
     "name": "stdout",
     "output_type": "stream",
     "text": [
      "Choose the type of query:\n",
      "1. Health Insurance Quotation\n",
      "2. General Question\n",
      "I'd be happy to provide a quotation for your health insurance based on the input health condition you provided.\n",
      "\n",
      "To generate a quote, I'll need to analyze some key factors from the sample data. Based on your input:\n",
      "\n",
      "* Age: 65 (which is similar to most of the sample data)\n",
      "* Gender: male (similar to most of the sample data)\n",
      "* BMI: 0.0 (very low, which may indicate a healthier lifestyle)\n",
      "* Children: 3 (average number of children in some of the sample data)\n",
      "* Smoker: yes (like many of the sample data records)\n",
      "* Medical History: none (which is different from most of the sample data, where medical history is often present)\n",
      "* Family Medical History: diabetes (similar to some of the sample data)\n",
      "* Exercise Frequency: rarely (like some of the sample data)\n",
      "\n",
      "Based on these factors, I'll provide a quote. Keep in mind that this is just an estimate and actual quotes may vary.\n",
      "\n",
      "**Quote:** $21,500 - $25,000 per year\n",
      "\n",
      "This quote takes into account your relatively low BMI, which suggests you have a healthier lifestyle. However, being a smoker and having a family medical history of diabetes increases the risk of health issues. Your lack of medical history is a positive factor, but it's not enough to offset the other factors.\n",
      "\n",
      "Please note that this quote is an estimate based on the sample data and may vary depending on your specific circumstances. I hope this helps you in planning for your health insurance needs!\n",
      "\n",
      "Would you like me to provide more information or answer any questions about this quote?\n"
     ]
    }
   ],
   "source": [
    "def main():\n",
    "    query, query_type = get_user_input()\n",
    "\n",
    "    if query_type == \"insurance\":\n",
    "        retrieved_docs = retrieve(query)\n",
    "        combined_docs = \"\\n\".join(retrieved_docs)\n",
    "        response = generate_response(combined_docs, query)\n",
    "    else:\n",
    "        response = answer_general_question(query)\n",
    "\n",
    "    print(response)\n",
    "\n",
    "# Example usage\n",
    "if __name__ == \"__main__\":\n",
    "    main()"
   ]
  },
  {
   "cell_type": "code",
   "execution_count": null,
   "metadata": {},
   "outputs": [],
   "source": []
  }
 ],
 "metadata": {
  "kernelspec": {
   "display_name": "Python 3",
   "language": "python",
   "name": "python3"
  },
  "language_info": {
   "codemirror_mode": {
    "name": "ipython",
    "version": 3
   },
   "file_extension": ".py",
   "mimetype": "text/x-python",
   "name": "python",
   "nbconvert_exporter": "python",
   "pygments_lexer": "ipython3",
   "version": "3.11.3"
  }
 },
 "nbformat": 4,
 "nbformat_minor": 2
}
